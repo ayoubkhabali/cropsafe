{
 "cells": [
  {
   "cell_type": "code",
   "execution_count": 6,
   "id": "c75ed76b-0196-47b9-b4e0-4e67198d842a",
   "metadata": {},
   "outputs": [
    {
     "name": "stderr",
     "output_type": "stream",
     "text": [
      "C:\\Users\\Code212-PC10\\AppData\\Local\\Temp\\ipykernel_17116\\2265752300.py:49: FutureWarning: You are using `torch.load` with `weights_only=False` (the current default value), which uses the default pickle module implicitly. It is possible to construct malicious pickle data which will execute arbitrary code during unpickling (See https://github.com/pytorch/pytorch/blob/main/SECURITY.md#untrusted-models for more details). In a future release, the default value for `weights_only` will be flipped to `True`. This limits the functions that could be executed during unpickling. Arbitrary objects will no longer be allowed to be loaded via this mode unless they are explicitly allowlisted by the user via `torch.serialization.add_safe_globals`. We recommend you start setting `weights_only=True` for any use case where you don't have full control of the loaded file. Please open an issue on GitHub for any issues related to this experimental feature.\n",
      "  model.load_state_dict(torch.load('fruit_spoilage_detection_model.pth'))\n"
     ]
    },
    {
     "data": {
      "text/plain": [
       "Sequential(\n",
       "  (0): Conv2d(3, 32, kernel_size=(3, 3), stride=(1, 1), padding=(1, 1))\n",
       "  (1): ReLU()\n",
       "  (2): BatchNorm2d(32, eps=1e-05, momentum=0.1, affine=True, track_running_stats=True)\n",
       "  (3): MaxPool2d(kernel_size=2, stride=2, padding=0, dilation=1, ceil_mode=False)\n",
       "  (4): Conv2d(32, 64, kernel_size=(3, 3), stride=(1, 1), padding=(1, 1))\n",
       "  (5): ReLU()\n",
       "  (6): BatchNorm2d(64, eps=1e-05, momentum=0.1, affine=True, track_running_stats=True)\n",
       "  (7): MaxPool2d(kernel_size=2, stride=2, padding=0, dilation=1, ceil_mode=False)\n",
       "  (8): Conv2d(64, 128, kernel_size=(3, 3), stride=(1, 1), padding=(1, 1))\n",
       "  (9): ReLU()\n",
       "  (10): BatchNorm2d(128, eps=1e-05, momentum=0.1, affine=True, track_running_stats=True)\n",
       "  (11): MaxPool2d(kernel_size=2, stride=2, padding=0, dilation=1, ceil_mode=False)\n",
       "  (12): Conv2d(128, 256, kernel_size=(3, 3), stride=(1, 1), padding=(1, 1))\n",
       "  (13): ReLU()\n",
       "  (14): BatchNorm2d(256, eps=1e-05, momentum=0.1, affine=True, track_running_stats=True)\n",
       "  (15): MaxPool2d(kernel_size=2, stride=2, padding=0, dilation=1, ceil_mode=False)\n",
       "  (16): AdaptiveAvgPool2d(output_size=(1, 1))\n",
       "  (17): Flatten(start_dim=1, end_dim=-1)\n",
       "  (18): Dropout(p=0.5, inplace=False)\n",
       "  (19): Linear(in_features=256, out_features=512, bias=True)\n",
       "  (20): ReLU()\n",
       "  (21): Dropout(p=0.5, inplace=False)\n",
       "  (22): Linear(in_features=512, out_features=17, bias=True)\n",
       ")"
      ]
     },
     "execution_count": 6,
     "metadata": {},
     "output_type": "execute_result"
    }
   ],
   "source": [
    "import torch\n",
    "import torch.nn as nn\n",
    "import torchvision.transforms as transforms\n",
    "from PIL import Image\n",
    "from torchvision.datasets import ImageFolder\n",
    "\n",
    "\n",
    "transform = transforms.Compose([\n",
    "    transforms.Resize((224, 224)),\n",
    "    transforms.ToTensor(),\n",
    "    transforms.Normalize(mean=[0.485, 0.456, 0.406], std=[0.229, 0.224, 0.225])\n",
    "])\n",
    "data_dir = r'C:\\Users\\Code212-PC10\\Downloads\\dataset-20250226T131930Z-001\\dataset'\n",
    "\n",
    "dataset = ImageFolder(data_dir+'/Train', transform=transform)\n",
    "\n",
    "\n",
    "model = nn.Sequential(\n",
    "    nn.Conv2d(3, 32, kernel_size=3, padding=1),\n",
    "    nn.ReLU(),\n",
    "    nn.BatchNorm2d(32),\n",
    "    nn.MaxPool2d(2, 2),\n",
    "\n",
    "    nn.Conv2d(32, 64, kernel_size=3, padding=1),\n",
    "    nn.ReLU(),\n",
    "    nn.BatchNorm2d(64),\n",
    "    nn.MaxPool2d(2, 2),\n",
    "\n",
    "    nn.Conv2d(64, 128, kernel_size=3, padding=1),\n",
    "    nn.ReLU(),\n",
    "    nn.BatchNorm2d(128),\n",
    "    nn.MaxPool2d(2, 2),\n",
    "\n",
    "    nn.Conv2d(128, 256, kernel_size=3, padding=1),\n",
    "    nn.ReLU(),\n",
    "    nn.BatchNorm2d(256),\n",
    "    nn.MaxPool2d(2, 2),\n",
    "\n",
    "    nn.AdaptiveAvgPool2d((1, 1)),  # <== Replaces manual calculation\n",
    "    nn.Flatten(),\n",
    "    nn.Dropout(0.5),\n",
    "    nn.Linear(256, 512),\n",
    "    nn.ReLU(),\n",
    "    nn.Dropout(0.5),\n",
    "    nn.Linear(512, len(dataset.classes))\n",
    ")\n",
    "\n",
    "# Load trained weights\n",
    "model.load_state_dict(torch.load('fruit_spoilage_detection_model.pth'))\n",
    "model.eval()  # Put model in evaluation mode\n"
   ]
  },
  {
   "cell_type": "code",
   "execution_count": 14,
   "id": "ec1ac2ae-b1a5-4af6-be5b-44024b10a255",
   "metadata": {},
   "outputs": [],
   "source": [
    "from torch.utils.data.sampler import SubsetRandomSampler\n",
    "from torch.utils.data.dataloader import DataLoader\n",
    "import numpy as np\n",
    "\n",
    "def split_indices(n,val_pct=0.1,seed=99) :\n",
    "  n_val = int(val_pct*n)\n",
    "  np.random.seed(seed)\n",
    "  idxs =np.random.permutation(n)\n",
    "  return idxs[n_val:], idxs[:n_val]\n",
    "val_pct=0.2\n",
    "rand_seed = 42\n",
    "\n",
    "train_indices, val_indices = split_indices(len(dataset),val_pct,rand_seed)\n",
    "\n",
    "\n",
    "batch_size=100\n",
    "\n",
    "train_sampler = SubsetRandomSampler(train_indices)\n",
    "\n",
    "train_dl = DataLoader(dataset,batch_size,sampler=train_sampler)\n",
    "\n",
    "val_sampler = SubsetRandomSampler(val_indices)\n",
    "val_dl = DataLoader(dataset,batch_size,sampler=val_sampler)"
   ]
  },
  {
   "cell_type": "code",
   "execution_count": 15,
   "id": "ed28fd35-e5a4-4396-af7d-90cdce2d155e",
   "metadata": {},
   "outputs": [
    {
     "data": {
      "text/plain": [
       "Sequential(\n",
       "  (0): Conv2d(3, 32, kernel_size=(3, 3), stride=(1, 1), padding=(1, 1))\n",
       "  (1): ReLU()\n",
       "  (2): BatchNorm2d(32, eps=1e-05, momentum=0.1, affine=True, track_running_stats=True)\n",
       "  (3): MaxPool2d(kernel_size=2, stride=2, padding=0, dilation=1, ceil_mode=False)\n",
       "  (4): Conv2d(32, 64, kernel_size=(3, 3), stride=(1, 1), padding=(1, 1))\n",
       "  (5): ReLU()\n",
       "  (6): BatchNorm2d(64, eps=1e-05, momentum=0.1, affine=True, track_running_stats=True)\n",
       "  (7): MaxPool2d(kernel_size=2, stride=2, padding=0, dilation=1, ceil_mode=False)\n",
       "  (8): Conv2d(64, 128, kernel_size=(3, 3), stride=(1, 1), padding=(1, 1))\n",
       "  (9): ReLU()\n",
       "  (10): BatchNorm2d(128, eps=1e-05, momentum=0.1, affine=True, track_running_stats=True)\n",
       "  (11): MaxPool2d(kernel_size=2, stride=2, padding=0, dilation=1, ceil_mode=False)\n",
       "  (12): Conv2d(128, 256, kernel_size=(3, 3), stride=(1, 1), padding=(1, 1))\n",
       "  (13): ReLU()\n",
       "  (14): BatchNorm2d(256, eps=1e-05, momentum=0.1, affine=True, track_running_stats=True)\n",
       "  (15): MaxPool2d(kernel_size=2, stride=2, padding=0, dilation=1, ceil_mode=False)\n",
       "  (16): AdaptiveAvgPool2d(output_size=(1, 1))\n",
       "  (17): Flatten(start_dim=1, end_dim=-1)\n",
       "  (18): Dropout(p=0.5, inplace=False)\n",
       "  (19): Linear(in_features=256, out_features=512, bias=True)\n",
       "  (20): ReLU()\n",
       "  (21): Dropout(p=0.5, inplace=False)\n",
       "  (22): Linear(in_features=512, out_features=17, bias=True)\n",
       ")"
      ]
     },
     "execution_count": 15,
     "metadata": {},
     "output_type": "execute_result"
    }
   ],
   "source": [
    "def get_default_device() :\n",
    "  if torch.cuda.is_available():\n",
    "    return torch.device('cuda')\n",
    "  else :\n",
    "    return torch.device('cpu')\n",
    "\n",
    "def to_device(data,device) :\n",
    "  if isinstance(data, (list,tuple)):\n",
    "    return [to_device(x,device) for x in data]\n",
    "  return data.to(device,non_blocking=True)\n",
    "\n",
    "class DeviceDataLoader() :\n",
    "  def __init__(self, dl, device) :\n",
    "    self.dl = dl\n",
    "    self.device = device\n",
    "\n",
    "  def __iter__(self) :\n",
    "    for b in self.dl :\n",
    "      yield to_device(b,self.device)\n",
    "\n",
    "  def __len__(self) :\n",
    "    return len(self.dl)\n",
    "\n",
    "device = get_default_device()\n",
    "\n",
    "train_dl = DeviceDataLoader(train_dl, device)\n",
    "valid_dl = DeviceDataLoader(val_dl,device)\n",
    "\n",
    "to_device(model, device)\n"
   ]
  },
  {
   "cell_type": "code",
   "execution_count": 16,
   "id": "d7edf753-a6c0-4cd8-82e7-1b1477beef6c",
   "metadata": {},
   "outputs": [],
   "source": [
    "# For inference\n",
    "def predict_image(img_path):\n",
    "    img = Image.open(img_path).convert('RGB')\n",
    "    img_tensor = transform(img).unsqueeze(0).to(device)\n",
    "    model.eval()\n",
    "    with torch.no_grad():\n",
    "        output = model(img_tensor)\n",
    "        _, predicted = torch.max(output, 1)\n",
    "    return dataset.classes[predicted.item()]"
   ]
  },
  {
   "cell_type": "code",
   "execution_count": 20,
   "id": "91bcf28e-ae36-458c-81d1-c284ae98c2c5",
   "metadata": {},
   "outputs": [
    {
     "name": "stdout",
     "output_type": "stream",
     "text": [
      "freshoranges\n"
     ]
    }
   ],
   "source": [
    "img_path=r\"C:\\Users\\Code212-PC10\\Downloads\\fc5f125387326fcc905b7df85a550ead.jpg\"\n",
    "\n",
    "print(predict_image(img_path))"
   ]
  },
  {
   "cell_type": "code",
   "execution_count": null,
   "id": "df514a65-6fa7-42f0-a6fc-aa516071c88e",
   "metadata": {},
   "outputs": [],
   "source": []
  }
 ],
 "metadata": {
  "kernelspec": {
   "display_name": "Python 3 (ipykernel)",
   "language": "python",
   "name": "python3"
  },
  "language_info": {
   "codemirror_mode": {
    "name": "ipython",
    "version": 3
   },
   "file_extension": ".py",
   "mimetype": "text/x-python",
   "name": "python",
   "nbconvert_exporter": "python",
   "pygments_lexer": "ipython3",
   "version": "3.12.9"
  }
 },
 "nbformat": 4,
 "nbformat_minor": 5
}
